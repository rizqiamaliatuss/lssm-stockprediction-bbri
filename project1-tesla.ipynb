{
 "metadata": {
  "language_info": {
   "codemirror_mode": {
    "name": "ipython",
    "version": 3
   },
   "file_extension": ".py",
   "mimetype": "text/x-python",
   "name": "python",
   "nbconvert_exporter": "python",
   "pygments_lexer": "ipython3",
   "version": "3.6.8-final"
  },
  "orig_nbformat": 2,
  "kernelspec": {
   "name": "python36864bittf1702877890e94c6e9bc2349994d5a8fa",
   "display_name": "Python 3.6.8 64-bit ('tf')"
  }
 },
 "nbformat": 4,
 "nbformat_minor": 2,
 "cells": [
  {
   "cell_type": "code",
   "execution_count": 2,
   "metadata": {},
   "outputs": [],
   "source": [
    "import pandas as pd\n",
    "import numpy as np \n",
    "import matplotlib.pyplot as plt \n",
    "import seaborn as sns\n",
    "import quandl #API untuk download dataset"
   ]
  },
  {
   "cell_type": "code",
   "execution_count": 3,
   "metadata": {},
   "outputs": [],
   "source": [
    "auth_tok = \"isi token\"\n",
    "\n",
    "tsla = quandl.get(\"WIKI/TSLA\", trim_start = \"2010-01-01\", trim_end = \"2020-10-01\", authtoken=auth_tok)"
   ]
  },
  {
   "cell_type": "code",
   "execution_count": 4,
   "metadata": {},
   "outputs": [
    {
     "output_type": "execute_result",
     "data": {
      "text/plain": [
       "              Open      High     Low   Close      Volume  Ex-Dividend  \\\n",
       "Date                                                                    \n",
       "2010-06-29   19.00   25.0000   17.54   23.89  18766300.0          0.0   \n",
       "2010-06-30   25.79   30.4192   23.30   23.83  17187100.0          0.0   \n",
       "2010-07-01   25.00   25.9200   20.27   21.96   8218800.0          0.0   \n",
       "2010-07-02   23.00   23.1000   18.71   19.20   5139800.0          0.0   \n",
       "2010-07-06   20.00   20.0000   15.83   16.11   6866900.0          0.0   \n",
       "...            ...       ...     ...     ...         ...          ...   \n",
       "2018-03-21  310.25  322.4400  310.19  316.53   5927881.0          0.0   \n",
       "2018-03-22  313.89  318.8200  308.18  309.10   4914307.0          0.0   \n",
       "2018-03-23  311.25  311.6100  300.45  301.54   6600538.0          0.0   \n",
       "2018-03-26  307.34  307.5900  291.36  304.18   8324639.0          0.0   \n",
       "2018-03-27  304.00  304.2700  277.18  279.18  13696168.0          0.0   \n",
       "\n",
       "            Split Ratio  Adj. Open  Adj. High  Adj. Low  Adj. Close  \\\n",
       "Date                                                                  \n",
       "2010-06-29          1.0      19.00    25.0000     17.54       23.89   \n",
       "2010-06-30          1.0      25.79    30.4192     23.30       23.83   \n",
       "2010-07-01          1.0      25.00    25.9200     20.27       21.96   \n",
       "2010-07-02          1.0      23.00    23.1000     18.71       19.20   \n",
       "2010-07-06          1.0      20.00    20.0000     15.83       16.11   \n",
       "...                 ...        ...        ...       ...         ...   \n",
       "2018-03-21          1.0     310.25   322.4400    310.19      316.53   \n",
       "2018-03-22          1.0     313.89   318.8200    308.18      309.10   \n",
       "2018-03-23          1.0     311.25   311.6100    300.45      301.54   \n",
       "2018-03-26          1.0     307.34   307.5900    291.36      304.18   \n",
       "2018-03-27          1.0     304.00   304.2700    277.18      279.18   \n",
       "\n",
       "            Adj. Volume  \n",
       "Date                     \n",
       "2010-06-29   18766300.0  \n",
       "2010-06-30   17187100.0  \n",
       "2010-07-01    8218800.0  \n",
       "2010-07-02    5139800.0  \n",
       "2010-07-06    6866900.0  \n",
       "...                 ...  \n",
       "2018-03-21    5927881.0  \n",
       "2018-03-22    4914307.0  \n",
       "2018-03-23    6600538.0  \n",
       "2018-03-26    8324639.0  \n",
       "2018-03-27   13696168.0  \n",
       "\n",
       "[1949 rows x 12 columns]"
      ],
      "text/html": "<div>\n<style scoped>\n    .dataframe tbody tr th:only-of-type {\n        vertical-align: middle;\n    }\n\n    .dataframe tbody tr th {\n        vertical-align: top;\n    }\n\n    .dataframe thead th {\n        text-align: right;\n    }\n</style>\n<table border=\"1\" class=\"dataframe\">\n  <thead>\n    <tr style=\"text-align: right;\">\n      <th></th>\n      <th>Open</th>\n      <th>High</th>\n      <th>Low</th>\n      <th>Close</th>\n      <th>Volume</th>\n      <th>Ex-Dividend</th>\n      <th>Split Ratio</th>\n      <th>Adj. Open</th>\n      <th>Adj. High</th>\n      <th>Adj. Low</th>\n      <th>Adj. Close</th>\n      <th>Adj. Volume</th>\n    </tr>\n    <tr>\n      <th>Date</th>\n      <th></th>\n      <th></th>\n      <th></th>\n      <th></th>\n      <th></th>\n      <th></th>\n      <th></th>\n      <th></th>\n      <th></th>\n      <th></th>\n      <th></th>\n      <th></th>\n    </tr>\n  </thead>\n  <tbody>\n    <tr>\n      <th>2010-06-29</th>\n      <td>19.00</td>\n      <td>25.0000</td>\n      <td>17.54</td>\n      <td>23.89</td>\n      <td>18766300.0</td>\n      <td>0.0</td>\n      <td>1.0</td>\n      <td>19.00</td>\n      <td>25.0000</td>\n      <td>17.54</td>\n      <td>23.89</td>\n      <td>18766300.0</td>\n    </tr>\n    <tr>\n      <th>2010-06-30</th>\n      <td>25.79</td>\n      <td>30.4192</td>\n      <td>23.30</td>\n      <td>23.83</td>\n      <td>17187100.0</td>\n      <td>0.0</td>\n      <td>1.0</td>\n      <td>25.79</td>\n      <td>30.4192</td>\n      <td>23.30</td>\n      <td>23.83</td>\n      <td>17187100.0</td>\n    </tr>\n    <tr>\n      <th>2010-07-01</th>\n      <td>25.00</td>\n      <td>25.9200</td>\n      <td>20.27</td>\n      <td>21.96</td>\n      <td>8218800.0</td>\n      <td>0.0</td>\n      <td>1.0</td>\n      <td>25.00</td>\n      <td>25.9200</td>\n      <td>20.27</td>\n      <td>21.96</td>\n      <td>8218800.0</td>\n    </tr>\n    <tr>\n      <th>2010-07-02</th>\n      <td>23.00</td>\n      <td>23.1000</td>\n      <td>18.71</td>\n      <td>19.20</td>\n      <td>5139800.0</td>\n      <td>0.0</td>\n      <td>1.0</td>\n      <td>23.00</td>\n      <td>23.1000</td>\n      <td>18.71</td>\n      <td>19.20</td>\n      <td>5139800.0</td>\n    </tr>\n    <tr>\n      <th>2010-07-06</th>\n      <td>20.00</td>\n      <td>20.0000</td>\n      <td>15.83</td>\n      <td>16.11</td>\n      <td>6866900.0</td>\n      <td>0.0</td>\n      <td>1.0</td>\n      <td>20.00</td>\n      <td>20.0000</td>\n      <td>15.83</td>\n      <td>16.11</td>\n      <td>6866900.0</td>\n    </tr>\n    <tr>\n      <th>...</th>\n      <td>...</td>\n      <td>...</td>\n      <td>...</td>\n      <td>...</td>\n      <td>...</td>\n      <td>...</td>\n      <td>...</td>\n      <td>...</td>\n      <td>...</td>\n      <td>...</td>\n      <td>...</td>\n      <td>...</td>\n    </tr>\n    <tr>\n      <th>2018-03-21</th>\n      <td>310.25</td>\n      <td>322.4400</td>\n      <td>310.19</td>\n      <td>316.53</td>\n      <td>5927881.0</td>\n      <td>0.0</td>\n      <td>1.0</td>\n      <td>310.25</td>\n      <td>322.4400</td>\n      <td>310.19</td>\n      <td>316.53</td>\n      <td>5927881.0</td>\n    </tr>\n    <tr>\n      <th>2018-03-22</th>\n      <td>313.89</td>\n      <td>318.8200</td>\n      <td>308.18</td>\n      <td>309.10</td>\n      <td>4914307.0</td>\n      <td>0.0</td>\n      <td>1.0</td>\n      <td>313.89</td>\n      <td>318.8200</td>\n      <td>308.18</td>\n      <td>309.10</td>\n      <td>4914307.0</td>\n    </tr>\n    <tr>\n      <th>2018-03-23</th>\n      <td>311.25</td>\n      <td>311.6100</td>\n      <td>300.45</td>\n      <td>301.54</td>\n      <td>6600538.0</td>\n      <td>0.0</td>\n      <td>1.0</td>\n      <td>311.25</td>\n      <td>311.6100</td>\n      <td>300.45</td>\n      <td>301.54</td>\n      <td>6600538.0</td>\n    </tr>\n    <tr>\n      <th>2018-03-26</th>\n      <td>307.34</td>\n      <td>307.5900</td>\n      <td>291.36</td>\n      <td>304.18</td>\n      <td>8324639.0</td>\n      <td>0.0</td>\n      <td>1.0</td>\n      <td>307.34</td>\n      <td>307.5900</td>\n      <td>291.36</td>\n      <td>304.18</td>\n      <td>8324639.0</td>\n    </tr>\n    <tr>\n      <th>2018-03-27</th>\n      <td>304.00</td>\n      <td>304.2700</td>\n      <td>277.18</td>\n      <td>279.18</td>\n      <td>13696168.0</td>\n      <td>0.0</td>\n      <td>1.0</td>\n      <td>304.00</td>\n      <td>304.2700</td>\n      <td>277.18</td>\n      <td>279.18</td>\n      <td>13696168.0</td>\n    </tr>\n  </tbody>\n</table>\n<p>1949 rows × 12 columns</p>\n</div>"
     },
     "metadata": {},
     "execution_count": 4
    }
   ],
   "source": [
    "tsla"
   ]
  },
  {
   "cell_type": "code",
   "execution_count": 5,
   "metadata": {},
   "outputs": [],
   "source": [
    "tsla.to_csv('tslaq.csv')\n",
    "tsla = pd.read_csv('tslaq.csv', index_col=('Date'))"
   ]
  },
  {
   "cell_type": "code",
   "execution_count": 6,
   "metadata": {},
   "outputs": [
    {
     "output_type": "execute_result",
     "data": {
      "text/plain": [
       "              Open      High     Low   Close      Volume  Ex-Dividend  \\\n",
       "Date                                                                    \n",
       "2010-06-29   19.00   25.0000   17.54   23.89  18766300.0          0.0   \n",
       "2010-06-30   25.79   30.4192   23.30   23.83  17187100.0          0.0   \n",
       "2010-07-01   25.00   25.9200   20.27   21.96   8218800.0          0.0   \n",
       "2010-07-02   23.00   23.1000   18.71   19.20   5139800.0          0.0   \n",
       "2010-07-06   20.00   20.0000   15.83   16.11   6866900.0          0.0   \n",
       "...            ...       ...     ...     ...         ...          ...   \n",
       "2018-03-21  310.25  322.4400  310.19  316.53   5927881.0          0.0   \n",
       "2018-03-22  313.89  318.8200  308.18  309.10   4914307.0          0.0   \n",
       "2018-03-23  311.25  311.6100  300.45  301.54   6600538.0          0.0   \n",
       "2018-03-26  307.34  307.5900  291.36  304.18   8324639.0          0.0   \n",
       "2018-03-27  304.00  304.2700  277.18  279.18  13696168.0          0.0   \n",
       "\n",
       "            Split Ratio  Adj. Open  Adj. High  Adj. Low  Adj. Close  \\\n",
       "Date                                                                  \n",
       "2010-06-29          1.0      19.00    25.0000     17.54       23.89   \n",
       "2010-06-30          1.0      25.79    30.4192     23.30       23.83   \n",
       "2010-07-01          1.0      25.00    25.9200     20.27       21.96   \n",
       "2010-07-02          1.0      23.00    23.1000     18.71       19.20   \n",
       "2010-07-06          1.0      20.00    20.0000     15.83       16.11   \n",
       "...                 ...        ...        ...       ...         ...   \n",
       "2018-03-21          1.0     310.25   322.4400    310.19      316.53   \n",
       "2018-03-22          1.0     313.89   318.8200    308.18      309.10   \n",
       "2018-03-23          1.0     311.25   311.6100    300.45      301.54   \n",
       "2018-03-26          1.0     307.34   307.5900    291.36      304.18   \n",
       "2018-03-27          1.0     304.00   304.2700    277.18      279.18   \n",
       "\n",
       "            Adj. Volume  \n",
       "Date                     \n",
       "2010-06-29   18766300.0  \n",
       "2010-06-30   17187100.0  \n",
       "2010-07-01    8218800.0  \n",
       "2010-07-02    5139800.0  \n",
       "2010-07-06    6866900.0  \n",
       "...                 ...  \n",
       "2018-03-21    5927881.0  \n",
       "2018-03-22    4914307.0  \n",
       "2018-03-23    6600538.0  \n",
       "2018-03-26    8324639.0  \n",
       "2018-03-27   13696168.0  \n",
       "\n",
       "[1949 rows x 12 columns]"
      ],
      "text/html": "<div>\n<style scoped>\n    .dataframe tbody tr th:only-of-type {\n        vertical-align: middle;\n    }\n\n    .dataframe tbody tr th {\n        vertical-align: top;\n    }\n\n    .dataframe thead th {\n        text-align: right;\n    }\n</style>\n<table border=\"1\" class=\"dataframe\">\n  <thead>\n    <tr style=\"text-align: right;\">\n      <th></th>\n      <th>Open</th>\n      <th>High</th>\n      <th>Low</th>\n      <th>Close</th>\n      <th>Volume</th>\n      <th>Ex-Dividend</th>\n      <th>Split Ratio</th>\n      <th>Adj. Open</th>\n      <th>Adj. High</th>\n      <th>Adj. Low</th>\n      <th>Adj. Close</th>\n      <th>Adj. Volume</th>\n    </tr>\n    <tr>\n      <th>Date</th>\n      <th></th>\n      <th></th>\n      <th></th>\n      <th></th>\n      <th></th>\n      <th></th>\n      <th></th>\n      <th></th>\n      <th></th>\n      <th></th>\n      <th></th>\n      <th></th>\n    </tr>\n  </thead>\n  <tbody>\n    <tr>\n      <th>2010-06-29</th>\n      <td>19.00</td>\n      <td>25.0000</td>\n      <td>17.54</td>\n      <td>23.89</td>\n      <td>18766300.0</td>\n      <td>0.0</td>\n      <td>1.0</td>\n      <td>19.00</td>\n      <td>25.0000</td>\n      <td>17.54</td>\n      <td>23.89</td>\n      <td>18766300.0</td>\n    </tr>\n    <tr>\n      <th>2010-06-30</th>\n      <td>25.79</td>\n      <td>30.4192</td>\n      <td>23.30</td>\n      <td>23.83</td>\n      <td>17187100.0</td>\n      <td>0.0</td>\n      <td>1.0</td>\n      <td>25.79</td>\n      <td>30.4192</td>\n      <td>23.30</td>\n      <td>23.83</td>\n      <td>17187100.0</td>\n    </tr>\n    <tr>\n      <th>2010-07-01</th>\n      <td>25.00</td>\n      <td>25.9200</td>\n      <td>20.27</td>\n      <td>21.96</td>\n      <td>8218800.0</td>\n      <td>0.0</td>\n      <td>1.0</td>\n      <td>25.00</td>\n      <td>25.9200</td>\n      <td>20.27</td>\n      <td>21.96</td>\n      <td>8218800.0</td>\n    </tr>\n    <tr>\n      <th>2010-07-02</th>\n      <td>23.00</td>\n      <td>23.1000</td>\n      <td>18.71</td>\n      <td>19.20</td>\n      <td>5139800.0</td>\n      <td>0.0</td>\n      <td>1.0</td>\n      <td>23.00</td>\n      <td>23.1000</td>\n      <td>18.71</td>\n      <td>19.20</td>\n      <td>5139800.0</td>\n    </tr>\n    <tr>\n      <th>2010-07-06</th>\n      <td>20.00</td>\n      <td>20.0000</td>\n      <td>15.83</td>\n      <td>16.11</td>\n      <td>6866900.0</td>\n      <td>0.0</td>\n      <td>1.0</td>\n      <td>20.00</td>\n      <td>20.0000</td>\n      <td>15.83</td>\n      <td>16.11</td>\n      <td>6866900.0</td>\n    </tr>\n    <tr>\n      <th>...</th>\n      <td>...</td>\n      <td>...</td>\n      <td>...</td>\n      <td>...</td>\n      <td>...</td>\n      <td>...</td>\n      <td>...</td>\n      <td>...</td>\n      <td>...</td>\n      <td>...</td>\n      <td>...</td>\n      <td>...</td>\n    </tr>\n    <tr>\n      <th>2018-03-21</th>\n      <td>310.25</td>\n      <td>322.4400</td>\n      <td>310.19</td>\n      <td>316.53</td>\n      <td>5927881.0</td>\n      <td>0.0</td>\n      <td>1.0</td>\n      <td>310.25</td>\n      <td>322.4400</td>\n      <td>310.19</td>\n      <td>316.53</td>\n      <td>5927881.0</td>\n    </tr>\n    <tr>\n      <th>2018-03-22</th>\n      <td>313.89</td>\n      <td>318.8200</td>\n      <td>308.18</td>\n      <td>309.10</td>\n      <td>4914307.0</td>\n      <td>0.0</td>\n      <td>1.0</td>\n      <td>313.89</td>\n      <td>318.8200</td>\n      <td>308.18</td>\n      <td>309.10</td>\n      <td>4914307.0</td>\n    </tr>\n    <tr>\n      <th>2018-03-23</th>\n      <td>311.25</td>\n      <td>311.6100</td>\n      <td>300.45</td>\n      <td>301.54</td>\n      <td>6600538.0</td>\n      <td>0.0</td>\n      <td>1.0</td>\n      <td>311.25</td>\n      <td>311.6100</td>\n      <td>300.45</td>\n      <td>301.54</td>\n      <td>6600538.0</td>\n    </tr>\n    <tr>\n      <th>2018-03-26</th>\n      <td>307.34</td>\n      <td>307.5900</td>\n      <td>291.36</td>\n      <td>304.18</td>\n      <td>8324639.0</td>\n      <td>0.0</td>\n      <td>1.0</td>\n      <td>307.34</td>\n      <td>307.5900</td>\n      <td>291.36</td>\n      <td>304.18</td>\n      <td>8324639.0</td>\n    </tr>\n    <tr>\n      <th>2018-03-27</th>\n      <td>304.00</td>\n      <td>304.2700</td>\n      <td>277.18</td>\n      <td>279.18</td>\n      <td>13696168.0</td>\n      <td>0.0</td>\n      <td>1.0</td>\n      <td>304.00</td>\n      <td>304.2700</td>\n      <td>277.18</td>\n      <td>279.18</td>\n      <td>13696168.0</td>\n    </tr>\n  </tbody>\n</table>\n<p>1949 rows × 12 columns</p>\n</div>"
     },
     "metadata": {},
     "execution_count": 6
    }
   ],
   "source": [
    "tsla"
   ]
  },
  {
   "cell_type": "code",
   "execution_count": 7,
   "metadata": {},
   "outputs": [
    {
     "output_type": "execute_result",
     "data": {
      "text/plain": [
       "             Open     High    Low  Close      Volume  Ex-Dividend  \\\n",
       "Date                                                                \n",
       "2010-06-29  19.00  25.0000  17.54  23.89  18766300.0          0.0   \n",
       "2010-06-30  25.79  30.4192  23.30  23.83  17187100.0          0.0   \n",
       "2010-07-01  25.00  25.9200  20.27  21.96   8218800.0          0.0   \n",
       "2010-07-02  23.00  23.1000  18.71  19.20   5139800.0          0.0   \n",
       "2010-07-06  20.00  20.0000  15.83  16.11   6866900.0          0.0   \n",
       "\n",
       "            Split Ratio  Adj. Open  Adj. High  Adj. Low  Adj. Close  \\\n",
       "Date                                                                  \n",
       "2010-06-29          1.0      19.00    25.0000     17.54       23.89   \n",
       "2010-06-30          1.0      25.79    30.4192     23.30       23.83   \n",
       "2010-07-01          1.0      25.00    25.9200     20.27       21.96   \n",
       "2010-07-02          1.0      23.00    23.1000     18.71       19.20   \n",
       "2010-07-06          1.0      20.00    20.0000     15.83       16.11   \n",
       "\n",
       "            Adj. Volume  \n",
       "Date                     \n",
       "2010-06-29   18766300.0  \n",
       "2010-06-30   17187100.0  \n",
       "2010-07-01    8218800.0  \n",
       "2010-07-02    5139800.0  \n",
       "2010-07-06    6866900.0  "
      ],
      "text/html": "<div>\n<style scoped>\n    .dataframe tbody tr th:only-of-type {\n        vertical-align: middle;\n    }\n\n    .dataframe tbody tr th {\n        vertical-align: top;\n    }\n\n    .dataframe thead th {\n        text-align: right;\n    }\n</style>\n<table border=\"1\" class=\"dataframe\">\n  <thead>\n    <tr style=\"text-align: right;\">\n      <th></th>\n      <th>Open</th>\n      <th>High</th>\n      <th>Low</th>\n      <th>Close</th>\n      <th>Volume</th>\n      <th>Ex-Dividend</th>\n      <th>Split Ratio</th>\n      <th>Adj. Open</th>\n      <th>Adj. High</th>\n      <th>Adj. Low</th>\n      <th>Adj. Close</th>\n      <th>Adj. Volume</th>\n    </tr>\n    <tr>\n      <th>Date</th>\n      <th></th>\n      <th></th>\n      <th></th>\n      <th></th>\n      <th></th>\n      <th></th>\n      <th></th>\n      <th></th>\n      <th></th>\n      <th></th>\n      <th></th>\n      <th></th>\n    </tr>\n  </thead>\n  <tbody>\n    <tr>\n      <th>2010-06-29</th>\n      <td>19.00</td>\n      <td>25.0000</td>\n      <td>17.54</td>\n      <td>23.89</td>\n      <td>18766300.0</td>\n      <td>0.0</td>\n      <td>1.0</td>\n      <td>19.00</td>\n      <td>25.0000</td>\n      <td>17.54</td>\n      <td>23.89</td>\n      <td>18766300.0</td>\n    </tr>\n    <tr>\n      <th>2010-06-30</th>\n      <td>25.79</td>\n      <td>30.4192</td>\n      <td>23.30</td>\n      <td>23.83</td>\n      <td>17187100.0</td>\n      <td>0.0</td>\n      <td>1.0</td>\n      <td>25.79</td>\n      <td>30.4192</td>\n      <td>23.30</td>\n      <td>23.83</td>\n      <td>17187100.0</td>\n    </tr>\n    <tr>\n      <th>2010-07-01</th>\n      <td>25.00</td>\n      <td>25.9200</td>\n      <td>20.27</td>\n      <td>21.96</td>\n      <td>8218800.0</td>\n      <td>0.0</td>\n      <td>1.0</td>\n      <td>25.00</td>\n      <td>25.9200</td>\n      <td>20.27</td>\n      <td>21.96</td>\n      <td>8218800.0</td>\n    </tr>\n    <tr>\n      <th>2010-07-02</th>\n      <td>23.00</td>\n      <td>23.1000</td>\n      <td>18.71</td>\n      <td>19.20</td>\n      <td>5139800.0</td>\n      <td>0.0</td>\n      <td>1.0</td>\n      <td>23.00</td>\n      <td>23.1000</td>\n      <td>18.71</td>\n      <td>19.20</td>\n      <td>5139800.0</td>\n    </tr>\n    <tr>\n      <th>2010-07-06</th>\n      <td>20.00</td>\n      <td>20.0000</td>\n      <td>15.83</td>\n      <td>16.11</td>\n      <td>6866900.0</td>\n      <td>0.0</td>\n      <td>1.0</td>\n      <td>20.00</td>\n      <td>20.0000</td>\n      <td>15.83</td>\n      <td>16.11</td>\n      <td>6866900.0</td>\n    </tr>\n  </tbody>\n</table>\n</div>"
     },
     "metadata": {},
     "execution_count": 7
    }
   ],
   "source": [
    "tsla.head()"
   ]
  },
  {
   "cell_type": "code",
   "execution_count": 8,
   "metadata": {},
   "outputs": [
    {
     "output_type": "execute_result",
     "data": {
      "text/plain": [
       "              Open    High     Low   Close      Volume  Ex-Dividend  \\\n",
       "Date                                                                  \n",
       "2018-03-21  310.25  322.44  310.19  316.53   5927881.0          0.0   \n",
       "2018-03-22  313.89  318.82  308.18  309.10   4914307.0          0.0   \n",
       "2018-03-23  311.25  311.61  300.45  301.54   6600538.0          0.0   \n",
       "2018-03-26  307.34  307.59  291.36  304.18   8324639.0          0.0   \n",
       "2018-03-27  304.00  304.27  277.18  279.18  13696168.0          0.0   \n",
       "\n",
       "            Split Ratio  Adj. Open  Adj. High  Adj. Low  Adj. Close  \\\n",
       "Date                                                                  \n",
       "2018-03-21          1.0     310.25     322.44    310.19      316.53   \n",
       "2018-03-22          1.0     313.89     318.82    308.18      309.10   \n",
       "2018-03-23          1.0     311.25     311.61    300.45      301.54   \n",
       "2018-03-26          1.0     307.34     307.59    291.36      304.18   \n",
       "2018-03-27          1.0     304.00     304.27    277.18      279.18   \n",
       "\n",
       "            Adj. Volume  \n",
       "Date                     \n",
       "2018-03-21    5927881.0  \n",
       "2018-03-22    4914307.0  \n",
       "2018-03-23    6600538.0  \n",
       "2018-03-26    8324639.0  \n",
       "2018-03-27   13696168.0  "
      ],
      "text/html": "<div>\n<style scoped>\n    .dataframe tbody tr th:only-of-type {\n        vertical-align: middle;\n    }\n\n    .dataframe tbody tr th {\n        vertical-align: top;\n    }\n\n    .dataframe thead th {\n        text-align: right;\n    }\n</style>\n<table border=\"1\" class=\"dataframe\">\n  <thead>\n    <tr style=\"text-align: right;\">\n      <th></th>\n      <th>Open</th>\n      <th>High</th>\n      <th>Low</th>\n      <th>Close</th>\n      <th>Volume</th>\n      <th>Ex-Dividend</th>\n      <th>Split Ratio</th>\n      <th>Adj. Open</th>\n      <th>Adj. High</th>\n      <th>Adj. Low</th>\n      <th>Adj. Close</th>\n      <th>Adj. Volume</th>\n    </tr>\n    <tr>\n      <th>Date</th>\n      <th></th>\n      <th></th>\n      <th></th>\n      <th></th>\n      <th></th>\n      <th></th>\n      <th></th>\n      <th></th>\n      <th></th>\n      <th></th>\n      <th></th>\n      <th></th>\n    </tr>\n  </thead>\n  <tbody>\n    <tr>\n      <th>2018-03-21</th>\n      <td>310.25</td>\n      <td>322.44</td>\n      <td>310.19</td>\n      <td>316.53</td>\n      <td>5927881.0</td>\n      <td>0.0</td>\n      <td>1.0</td>\n      <td>310.25</td>\n      <td>322.44</td>\n      <td>310.19</td>\n      <td>316.53</td>\n      <td>5927881.0</td>\n    </tr>\n    <tr>\n      <th>2018-03-22</th>\n      <td>313.89</td>\n      <td>318.82</td>\n      <td>308.18</td>\n      <td>309.10</td>\n      <td>4914307.0</td>\n      <td>0.0</td>\n      <td>1.0</td>\n      <td>313.89</td>\n      <td>318.82</td>\n      <td>308.18</td>\n      <td>309.10</td>\n      <td>4914307.0</td>\n    </tr>\n    <tr>\n      <th>2018-03-23</th>\n      <td>311.25</td>\n      <td>311.61</td>\n      <td>300.45</td>\n      <td>301.54</td>\n      <td>6600538.0</td>\n      <td>0.0</td>\n      <td>1.0</td>\n      <td>311.25</td>\n      <td>311.61</td>\n      <td>300.45</td>\n      <td>301.54</td>\n      <td>6600538.0</td>\n    </tr>\n    <tr>\n      <th>2018-03-26</th>\n      <td>307.34</td>\n      <td>307.59</td>\n      <td>291.36</td>\n      <td>304.18</td>\n      <td>8324639.0</td>\n      <td>0.0</td>\n      <td>1.0</td>\n      <td>307.34</td>\n      <td>307.59</td>\n      <td>291.36</td>\n      <td>304.18</td>\n      <td>8324639.0</td>\n    </tr>\n    <tr>\n      <th>2018-03-27</th>\n      <td>304.00</td>\n      <td>304.27</td>\n      <td>277.18</td>\n      <td>279.18</td>\n      <td>13696168.0</td>\n      <td>0.0</td>\n      <td>1.0</td>\n      <td>304.00</td>\n      <td>304.27</td>\n      <td>277.18</td>\n      <td>279.18</td>\n      <td>13696168.0</td>\n    </tr>\n  </tbody>\n</table>\n</div>"
     },
     "metadata": {},
     "execution_count": 8
    }
   ],
   "source": [
    "tsla.tail()"
   ]
  },
  {
   "cell_type": "code",
   "execution_count": 9,
   "metadata": {},
   "outputs": [
    {
     "output_type": "execute_result",
     "data": {
      "text/plain": [
       "              Open         High          Low        Close        Volume  \\\n",
       "count  1949.000000  1949.000000  1949.000000  1949.000000  1.949000e+03   \n",
       "mean    158.686482   161.315984   155.863583   158.641133  4.548989e+06   \n",
       "std     111.101793   112.587258   109.427114   111.041316  4.185588e+06   \n",
       "min      16.140000    16.630000    14.980000    15.800000  1.185000e+05   \n",
       "25%      31.600000    32.250000    30.870000    31.600000  1.350400e+06   \n",
       "50%     192.050000   195.120000   189.000000   192.690000  3.715161e+06   \n",
       "75%     240.490000   244.090000   235.670700   240.240000  6.076998e+06   \n",
       "max     386.690000   389.610000   379.345000   385.000000  3.716390e+07   \n",
       "\n",
       "       Ex-Dividend  Split Ratio    Adj. Open    Adj. High     Adj. Low  \\\n",
       "count       1949.0       1949.0  1949.000000  1949.000000  1949.000000   \n",
       "mean           0.0          1.0   158.686482   161.315984   155.863583   \n",
       "std            0.0          0.0   111.101793   112.587258   109.427114   \n",
       "min            0.0          1.0    16.140000    16.630000    14.980000   \n",
       "25%            0.0          1.0    31.600000    32.250000    30.870000   \n",
       "50%            0.0          1.0   192.050000   195.120000   189.000000   \n",
       "75%            0.0          1.0   240.490000   244.090000   235.670700   \n",
       "max            0.0          1.0   386.690000   389.610000   379.345000   \n",
       "\n",
       "        Adj. Close   Adj. Volume  \n",
       "count  1949.000000  1.949000e+03  \n",
       "mean    158.641133  4.548989e+06  \n",
       "std     111.041316  4.185588e+06  \n",
       "min      15.800000  1.185000e+05  \n",
       "25%      31.600000  1.350400e+06  \n",
       "50%     192.690000  3.715161e+06  \n",
       "75%     240.240000  6.076998e+06  \n",
       "max     385.000000  3.716390e+07  "
      ],
      "text/html": "<div>\n<style scoped>\n    .dataframe tbody tr th:only-of-type {\n        vertical-align: middle;\n    }\n\n    .dataframe tbody tr th {\n        vertical-align: top;\n    }\n\n    .dataframe thead th {\n        text-align: right;\n    }\n</style>\n<table border=\"1\" class=\"dataframe\">\n  <thead>\n    <tr style=\"text-align: right;\">\n      <th></th>\n      <th>Open</th>\n      <th>High</th>\n      <th>Low</th>\n      <th>Close</th>\n      <th>Volume</th>\n      <th>Ex-Dividend</th>\n      <th>Split Ratio</th>\n      <th>Adj. Open</th>\n      <th>Adj. High</th>\n      <th>Adj. Low</th>\n      <th>Adj. Close</th>\n      <th>Adj. Volume</th>\n    </tr>\n  </thead>\n  <tbody>\n    <tr>\n      <th>count</th>\n      <td>1949.000000</td>\n      <td>1949.000000</td>\n      <td>1949.000000</td>\n      <td>1949.000000</td>\n      <td>1.949000e+03</td>\n      <td>1949.0</td>\n      <td>1949.0</td>\n      <td>1949.000000</td>\n      <td>1949.000000</td>\n      <td>1949.000000</td>\n      <td>1949.000000</td>\n      <td>1.949000e+03</td>\n    </tr>\n    <tr>\n      <th>mean</th>\n      <td>158.686482</td>\n      <td>161.315984</td>\n      <td>155.863583</td>\n      <td>158.641133</td>\n      <td>4.548989e+06</td>\n      <td>0.0</td>\n      <td>1.0</td>\n      <td>158.686482</td>\n      <td>161.315984</td>\n      <td>155.863583</td>\n      <td>158.641133</td>\n      <td>4.548989e+06</td>\n    </tr>\n    <tr>\n      <th>std</th>\n      <td>111.101793</td>\n      <td>112.587258</td>\n      <td>109.427114</td>\n      <td>111.041316</td>\n      <td>4.185588e+06</td>\n      <td>0.0</td>\n      <td>0.0</td>\n      <td>111.101793</td>\n      <td>112.587258</td>\n      <td>109.427114</td>\n      <td>111.041316</td>\n      <td>4.185588e+06</td>\n    </tr>\n    <tr>\n      <th>min</th>\n      <td>16.140000</td>\n      <td>16.630000</td>\n      <td>14.980000</td>\n      <td>15.800000</td>\n      <td>1.185000e+05</td>\n      <td>0.0</td>\n      <td>1.0</td>\n      <td>16.140000</td>\n      <td>16.630000</td>\n      <td>14.980000</td>\n      <td>15.800000</td>\n      <td>1.185000e+05</td>\n    </tr>\n    <tr>\n      <th>25%</th>\n      <td>31.600000</td>\n      <td>32.250000</td>\n      <td>30.870000</td>\n      <td>31.600000</td>\n      <td>1.350400e+06</td>\n      <td>0.0</td>\n      <td>1.0</td>\n      <td>31.600000</td>\n      <td>32.250000</td>\n      <td>30.870000</td>\n      <td>31.600000</td>\n      <td>1.350400e+06</td>\n    </tr>\n    <tr>\n      <th>50%</th>\n      <td>192.050000</td>\n      <td>195.120000</td>\n      <td>189.000000</td>\n      <td>192.690000</td>\n      <td>3.715161e+06</td>\n      <td>0.0</td>\n      <td>1.0</td>\n      <td>192.050000</td>\n      <td>195.120000</td>\n      <td>189.000000</td>\n      <td>192.690000</td>\n      <td>3.715161e+06</td>\n    </tr>\n    <tr>\n      <th>75%</th>\n      <td>240.490000</td>\n      <td>244.090000</td>\n      <td>235.670700</td>\n      <td>240.240000</td>\n      <td>6.076998e+06</td>\n      <td>0.0</td>\n      <td>1.0</td>\n      <td>240.490000</td>\n      <td>244.090000</td>\n      <td>235.670700</td>\n      <td>240.240000</td>\n      <td>6.076998e+06</td>\n    </tr>\n    <tr>\n      <th>max</th>\n      <td>386.690000</td>\n      <td>389.610000</td>\n      <td>379.345000</td>\n      <td>385.000000</td>\n      <td>3.716390e+07</td>\n      <td>0.0</td>\n      <td>1.0</td>\n      <td>386.690000</td>\n      <td>389.610000</td>\n      <td>379.345000</td>\n      <td>385.000000</td>\n      <td>3.716390e+07</td>\n    </tr>\n  </tbody>\n</table>\n</div>"
     },
     "metadata": {},
     "execution_count": 9
    }
   ],
   "source": [
    "tsla.describe()"
   ]
  },
  {
   "cell_type": "code",
   "execution_count": 10,
   "metadata": {},
   "outputs": [
    {
     "output_type": "execute_result",
     "data": {
      "text/plain": [
       "Index(['2010-06-29', '2010-06-30', '2010-07-01', '2010-07-02', '2010-07-06',\n",
       "       '2010-07-07', '2010-07-08', '2010-07-09', '2010-07-12', '2010-07-13',\n",
       "       ...\n",
       "       '2018-03-14', '2018-03-15', '2018-03-16', '2018-03-19', '2018-03-20',\n",
       "       '2018-03-21', '2018-03-22', '2018-03-23', '2018-03-26', '2018-03-27'],\n",
       "      dtype='object', name='Date', length=1949)"
      ]
     },
     "metadata": {},
     "execution_count": 10
    }
   ],
   "source": [
    "tsla.index"
   ]
  },
  {
   "cell_type": "code",
   "execution_count": 11,
   "metadata": {},
   "outputs": [
    {
     "output_type": "execute_result",
     "data": {
      "text/plain": [
       "Index(['Open', 'High', 'Low', 'Close', 'Volume', 'Ex-Dividend', 'Split Ratio',\n",
       "       'Adj. Open', 'Adj. High', 'Adj. Low', 'Adj. Close', 'Adj. Volume'],\n",
       "      dtype='object')"
      ]
     },
     "metadata": {},
     "execution_count": 11
    }
   ],
   "source": [
    "tsla.columns"
   ]
  },
  {
   "cell_type": "code",
   "execution_count": 12,
   "metadata": {},
   "outputs": [],
   "source": [
    "tsla['diff'] = tsla.Open - tsla.Close"
   ]
  },
  {
   "cell_type": "code",
   "execution_count": 13,
   "metadata": {},
   "outputs": [
    {
     "output_type": "execute_result",
     "data": {
      "text/plain": [
       "Date\n",
       "2010-06-29    -4.89\n",
       "2010-06-30     1.96\n",
       "2010-07-01     3.04\n",
       "2010-07-02     3.80\n",
       "2010-07-06     3.89\n",
       "              ...  \n",
       "2018-03-21    -6.28\n",
       "2018-03-22     4.79\n",
       "2018-03-23     9.71\n",
       "2018-03-26     3.16\n",
       "2018-03-27    24.82\n",
       "Name: diff, Length: 1949, dtype: float64"
      ]
     },
     "metadata": {},
     "execution_count": 13
    }
   ],
   "source": [
    "tsla['diff']"
   ]
  },
  {
   "cell_type": "code",
   "execution_count": 14,
   "metadata": {},
   "outputs": [
    {
     "output_type": "execute_result",
     "data": {
      "text/plain": [
       "              Open      High     Low   Close      Volume  Ex-Dividend  \\\n",
       "Date                                                                    \n",
       "2010-06-29   19.00   25.0000   17.54   23.89  18766300.0          0.0   \n",
       "2010-06-30   25.79   30.4192   23.30   23.83  17187100.0          0.0   \n",
       "2010-07-01   25.00   25.9200   20.27   21.96   8218800.0          0.0   \n",
       "2010-07-02   23.00   23.1000   18.71   19.20   5139800.0          0.0   \n",
       "2010-07-06   20.00   20.0000   15.83   16.11   6866900.0          0.0   \n",
       "...            ...       ...     ...     ...         ...          ...   \n",
       "2018-03-21  310.25  322.4400  310.19  316.53   5927881.0          0.0   \n",
       "2018-03-22  313.89  318.8200  308.18  309.10   4914307.0          0.0   \n",
       "2018-03-23  311.25  311.6100  300.45  301.54   6600538.0          0.0   \n",
       "2018-03-26  307.34  307.5900  291.36  304.18   8324639.0          0.0   \n",
       "2018-03-27  304.00  304.2700  277.18  279.18  13696168.0          0.0   \n",
       "\n",
       "            Split Ratio  Adj. Open  Adj. High  Adj. Low  Adj. Close  \\\n",
       "Date                                                                  \n",
       "2010-06-29          1.0      19.00    25.0000     17.54       23.89   \n",
       "2010-06-30          1.0      25.79    30.4192     23.30       23.83   \n",
       "2010-07-01          1.0      25.00    25.9200     20.27       21.96   \n",
       "2010-07-02          1.0      23.00    23.1000     18.71       19.20   \n",
       "2010-07-06          1.0      20.00    20.0000     15.83       16.11   \n",
       "...                 ...        ...        ...       ...         ...   \n",
       "2018-03-21          1.0     310.25   322.4400    310.19      316.53   \n",
       "2018-03-22          1.0     313.89   318.8200    308.18      309.10   \n",
       "2018-03-23          1.0     311.25   311.6100    300.45      301.54   \n",
       "2018-03-26          1.0     307.34   307.5900    291.36      304.18   \n",
       "2018-03-27          1.0     304.00   304.2700    277.18      279.18   \n",
       "\n",
       "            Adj. Volume   diff  \n",
       "Date                            \n",
       "2010-06-29   18766300.0  -4.89  \n",
       "2010-06-30   17187100.0   1.96  \n",
       "2010-07-01    8218800.0   3.04  \n",
       "2010-07-02    5139800.0   3.80  \n",
       "2010-07-06    6866900.0   3.89  \n",
       "...                 ...    ...  \n",
       "2018-03-21    5927881.0  -6.28  \n",
       "2018-03-22    4914307.0   4.79  \n",
       "2018-03-23    6600538.0   9.71  \n",
       "2018-03-26    8324639.0   3.16  \n",
       "2018-03-27   13696168.0  24.82  \n",
       "\n",
       "[1949 rows x 13 columns]"
      ],
      "text/html": "<div>\n<style scoped>\n    .dataframe tbody tr th:only-of-type {\n        vertical-align: middle;\n    }\n\n    .dataframe tbody tr th {\n        vertical-align: top;\n    }\n\n    .dataframe thead th {\n        text-align: right;\n    }\n</style>\n<table border=\"1\" class=\"dataframe\">\n  <thead>\n    <tr style=\"text-align: right;\">\n      <th></th>\n      <th>Open</th>\n      <th>High</th>\n      <th>Low</th>\n      <th>Close</th>\n      <th>Volume</th>\n      <th>Ex-Dividend</th>\n      <th>Split Ratio</th>\n      <th>Adj. Open</th>\n      <th>Adj. High</th>\n      <th>Adj. Low</th>\n      <th>Adj. Close</th>\n      <th>Adj. Volume</th>\n      <th>diff</th>\n    </tr>\n    <tr>\n      <th>Date</th>\n      <th></th>\n      <th></th>\n      <th></th>\n      <th></th>\n      <th></th>\n      <th></th>\n      <th></th>\n      <th></th>\n      <th></th>\n      <th></th>\n      <th></th>\n      <th></th>\n      <th></th>\n    </tr>\n  </thead>\n  <tbody>\n    <tr>\n      <th>2010-06-29</th>\n      <td>19.00</td>\n      <td>25.0000</td>\n      <td>17.54</td>\n      <td>23.89</td>\n      <td>18766300.0</td>\n      <td>0.0</td>\n      <td>1.0</td>\n      <td>19.00</td>\n      <td>25.0000</td>\n      <td>17.54</td>\n      <td>23.89</td>\n      <td>18766300.0</td>\n      <td>-4.89</td>\n    </tr>\n    <tr>\n      <th>2010-06-30</th>\n      <td>25.79</td>\n      <td>30.4192</td>\n      <td>23.30</td>\n      <td>23.83</td>\n      <td>17187100.0</td>\n      <td>0.0</td>\n      <td>1.0</td>\n      <td>25.79</td>\n      <td>30.4192</td>\n      <td>23.30</td>\n      <td>23.83</td>\n      <td>17187100.0</td>\n      <td>1.96</td>\n    </tr>\n    <tr>\n      <th>2010-07-01</th>\n      <td>25.00</td>\n      <td>25.9200</td>\n      <td>20.27</td>\n      <td>21.96</td>\n      <td>8218800.0</td>\n      <td>0.0</td>\n      <td>1.0</td>\n      <td>25.00</td>\n      <td>25.9200</td>\n      <td>20.27</td>\n      <td>21.96</td>\n      <td>8218800.0</td>\n      <td>3.04</td>\n    </tr>\n    <tr>\n      <th>2010-07-02</th>\n      <td>23.00</td>\n      <td>23.1000</td>\n      <td>18.71</td>\n      <td>19.20</td>\n      <td>5139800.0</td>\n      <td>0.0</td>\n      <td>1.0</td>\n      <td>23.00</td>\n      <td>23.1000</td>\n      <td>18.71</td>\n      <td>19.20</td>\n      <td>5139800.0</td>\n      <td>3.80</td>\n    </tr>\n    <tr>\n      <th>2010-07-06</th>\n      <td>20.00</td>\n      <td>20.0000</td>\n      <td>15.83</td>\n      <td>16.11</td>\n      <td>6866900.0</td>\n      <td>0.0</td>\n      <td>1.0</td>\n      <td>20.00</td>\n      <td>20.0000</td>\n      <td>15.83</td>\n      <td>16.11</td>\n      <td>6866900.0</td>\n      <td>3.89</td>\n    </tr>\n    <tr>\n      <th>...</th>\n      <td>...</td>\n      <td>...</td>\n      <td>...</td>\n      <td>...</td>\n      <td>...</td>\n      <td>...</td>\n      <td>...</td>\n      <td>...</td>\n      <td>...</td>\n      <td>...</td>\n      <td>...</td>\n      <td>...</td>\n      <td>...</td>\n    </tr>\n    <tr>\n      <th>2018-03-21</th>\n      <td>310.25</td>\n      <td>322.4400</td>\n      <td>310.19</td>\n      <td>316.53</td>\n      <td>5927881.0</td>\n      <td>0.0</td>\n      <td>1.0</td>\n      <td>310.25</td>\n      <td>322.4400</td>\n      <td>310.19</td>\n      <td>316.53</td>\n      <td>5927881.0</td>\n      <td>-6.28</td>\n    </tr>\n    <tr>\n      <th>2018-03-22</th>\n      <td>313.89</td>\n      <td>318.8200</td>\n      <td>308.18</td>\n      <td>309.10</td>\n      <td>4914307.0</td>\n      <td>0.0</td>\n      <td>1.0</td>\n      <td>313.89</td>\n      <td>318.8200</td>\n      <td>308.18</td>\n      <td>309.10</td>\n      <td>4914307.0</td>\n      <td>4.79</td>\n    </tr>\n    <tr>\n      <th>2018-03-23</th>\n      <td>311.25</td>\n      <td>311.6100</td>\n      <td>300.45</td>\n      <td>301.54</td>\n      <td>6600538.0</td>\n      <td>0.0</td>\n      <td>1.0</td>\n      <td>311.25</td>\n      <td>311.6100</td>\n      <td>300.45</td>\n      <td>301.54</td>\n      <td>6600538.0</td>\n      <td>9.71</td>\n    </tr>\n    <tr>\n      <th>2018-03-26</th>\n      <td>307.34</td>\n      <td>307.5900</td>\n      <td>291.36</td>\n      <td>304.18</td>\n      <td>8324639.0</td>\n      <td>0.0</td>\n      <td>1.0</td>\n      <td>307.34</td>\n      <td>307.5900</td>\n      <td>291.36</td>\n      <td>304.18</td>\n      <td>8324639.0</td>\n      <td>3.16</td>\n    </tr>\n    <tr>\n      <th>2018-03-27</th>\n      <td>304.00</td>\n      <td>304.2700</td>\n      <td>277.18</td>\n      <td>279.18</td>\n      <td>13696168.0</td>\n      <td>0.0</td>\n      <td>1.0</td>\n      <td>304.00</td>\n      <td>304.2700</td>\n      <td>277.18</td>\n      <td>279.18</td>\n      <td>13696168.0</td>\n      <td>24.82</td>\n    </tr>\n  </tbody>\n</table>\n<p>1949 rows × 13 columns</p>\n</div>"
     },
     "metadata": {},
     "execution_count": 14
    }
   ],
   "source": [
    "tsla"
   ]
  },
  {
   "cell_type": "code",
   "execution_count": 16,
   "metadata": {},
   "outputs": [],
   "source": [
    "tsla = tsla.drop(columns= ['Ex-Dividend', 'Adj. Open','Adj. High', 'Adj. Low', 'Adj. Close', 'Adj. Volume'])"
   ]
  },
  {
   "cell_type": "code",
   "execution_count": 48,
   "metadata": {},
   "outputs": [
    {
     "output_type": "execute_result",
     "data": {
      "text/plain": [
       "              Open      High     Low   Close      Volume  Split Ratio   diff\n",
       "Date                                                                        \n",
       "2010-06-29   19.00   25.0000   17.54   23.89  18766300.0          1.0  -4.89\n",
       "2010-06-30   25.79   30.4192   23.30   23.83  17187100.0          1.0   1.96\n",
       "2010-07-01   25.00   25.9200   20.27   21.96   8218800.0          1.0   3.04\n",
       "2010-07-02   23.00   23.1000   18.71   19.20   5139800.0          1.0   3.80\n",
       "2010-07-06   20.00   20.0000   15.83   16.11   6866900.0          1.0   3.89\n",
       "...            ...       ...     ...     ...         ...          ...    ...\n",
       "2018-03-21  310.25  322.4400  310.19  316.53   5927881.0          1.0  -6.28\n",
       "2018-03-22  313.89  318.8200  308.18  309.10   4914307.0          1.0   4.79\n",
       "2018-03-23  311.25  311.6100  300.45  301.54   6600538.0          1.0   9.71\n",
       "2018-03-26  307.34  307.5900  291.36  304.18   8324639.0          1.0   3.16\n",
       "2018-03-27  304.00  304.2700  277.18  279.18  13696168.0          1.0  24.82\n",
       "\n",
       "[1949 rows x 7 columns]"
      ],
      "text/html": "<div>\n<style scoped>\n    .dataframe tbody tr th:only-of-type {\n        vertical-align: middle;\n    }\n\n    .dataframe tbody tr th {\n        vertical-align: top;\n    }\n\n    .dataframe thead th {\n        text-align: right;\n    }\n</style>\n<table border=\"1\" class=\"dataframe\">\n  <thead>\n    <tr style=\"text-align: right;\">\n      <th></th>\n      <th>Open</th>\n      <th>High</th>\n      <th>Low</th>\n      <th>Close</th>\n      <th>Volume</th>\n      <th>Split Ratio</th>\n      <th>diff</th>\n    </tr>\n    <tr>\n      <th>Date</th>\n      <th></th>\n      <th></th>\n      <th></th>\n      <th></th>\n      <th></th>\n      <th></th>\n      <th></th>\n    </tr>\n  </thead>\n  <tbody>\n    <tr>\n      <th>2010-06-29</th>\n      <td>19.00</td>\n      <td>25.0000</td>\n      <td>17.54</td>\n      <td>23.89</td>\n      <td>18766300.0</td>\n      <td>1.0</td>\n      <td>-4.89</td>\n    </tr>\n    <tr>\n      <th>2010-06-30</th>\n      <td>25.79</td>\n      <td>30.4192</td>\n      <td>23.30</td>\n      <td>23.83</td>\n      <td>17187100.0</td>\n      <td>1.0</td>\n      <td>1.96</td>\n    </tr>\n    <tr>\n      <th>2010-07-01</th>\n      <td>25.00</td>\n      <td>25.9200</td>\n      <td>20.27</td>\n      <td>21.96</td>\n      <td>8218800.0</td>\n      <td>1.0</td>\n      <td>3.04</td>\n    </tr>\n    <tr>\n      <th>2010-07-02</th>\n      <td>23.00</td>\n      <td>23.1000</td>\n      <td>18.71</td>\n      <td>19.20</td>\n      <td>5139800.0</td>\n      <td>1.0</td>\n      <td>3.80</td>\n    </tr>\n    <tr>\n      <th>2010-07-06</th>\n      <td>20.00</td>\n      <td>20.0000</td>\n      <td>15.83</td>\n      <td>16.11</td>\n      <td>6866900.0</td>\n      <td>1.0</td>\n      <td>3.89</td>\n    </tr>\n    <tr>\n      <th>...</th>\n      <td>...</td>\n      <td>...</td>\n      <td>...</td>\n      <td>...</td>\n      <td>...</td>\n      <td>...</td>\n      <td>...</td>\n    </tr>\n    <tr>\n      <th>2018-03-21</th>\n      <td>310.25</td>\n      <td>322.4400</td>\n      <td>310.19</td>\n      <td>316.53</td>\n      <td>5927881.0</td>\n      <td>1.0</td>\n      <td>-6.28</td>\n    </tr>\n    <tr>\n      <th>2018-03-22</th>\n      <td>313.89</td>\n      <td>318.8200</td>\n      <td>308.18</td>\n      <td>309.10</td>\n      <td>4914307.0</td>\n      <td>1.0</td>\n      <td>4.79</td>\n    </tr>\n    <tr>\n      <th>2018-03-23</th>\n      <td>311.25</td>\n      <td>311.6100</td>\n      <td>300.45</td>\n      <td>301.54</td>\n      <td>6600538.0</td>\n      <td>1.0</td>\n      <td>9.71</td>\n    </tr>\n    <tr>\n      <th>2018-03-26</th>\n      <td>307.34</td>\n      <td>307.5900</td>\n      <td>291.36</td>\n      <td>304.18</td>\n      <td>8324639.0</td>\n      <td>1.0</td>\n      <td>3.16</td>\n    </tr>\n    <tr>\n      <th>2018-03-27</th>\n      <td>304.00</td>\n      <td>304.2700</td>\n      <td>277.18</td>\n      <td>279.18</td>\n      <td>13696168.0</td>\n      <td>1.0</td>\n      <td>24.82</td>\n    </tr>\n  </tbody>\n</table>\n<p>1949 rows × 7 columns</p>\n</div>"
     },
     "metadata": {},
     "execution_count": 48
    }
   ],
   "source": [
    "tsla"
   ]
  },
  {
   "cell_type": "code",
   "execution_count": 25,
   "metadata": {},
   "outputs": [
    {
     "output_type": "stream",
     "name": "stdout",
     "text": [
      "              Open      High       Low    Close      Volume  Split Ratio  \\\nDate                                                                       \n2011-10-28   28.50   30.0000   28.0100   29.870   1264000.0          1.0   \n2010-12-08   32.48   32.4900   31.5200   32.370    660000.0          1.0   \n2017-03-31  278.73  279.6800  276.3197  278.300   3294640.0          1.0   \n2016-09-01  209.01  211.0999  200.5000  200.770   7943138.0          1.0   \n2015-03-13  188.95  191.7500  187.3200  188.680   5434298.0          1.0   \n2015-10-09  220.93  224.3700  218.3600  220.690   6158370.0          1.0   \n2013-04-23   51.00   52.9200   50.6600   51.010   3733800.0          1.0   \n2015-08-20  252.06  254.5600  241.9000  242.180   4905757.0          1.0   \n2012-05-31   30.07   30.2900   28.7500   29.500   1118700.0          1.0   \n2012-07-16   34.32   36.0000   33.9000   35.960   1744000.0          1.0   \n2012-11-21   32.61   33.4700   32.2860   32.470    963200.0          1.0   \n2011-07-18   27.34   27.4500   26.6300   27.230    851900.0          1.0   \n2015-03-24  201.58  203.7900  199.7500  201.720   3649860.0          1.0   \n2010-08-27   19.75   19.8650   19.5000   19.700    379600.0          1.0   \n2013-07-26  128.14  130.6800  126.6100  129.390   9633100.0          1.0   \n2013-09-18  167.07  167.4500  164.2000  166.218   5439700.0          1.0   \n2015-07-14  262.10  265.9899  260.5100  265.650   1907641.0          1.0   \n2017-09-22  366.49  369.8999  350.8800  351.090   8105653.0          1.0   \n2013-07-30  134.80  137.4900  128.1800  131.740  13127000.0          1.0   \n2015-08-26  227.93  228.0000  215.5100  224.840   4963042.0          1.0   \n\n              diff  \nDate                \n2011-10-28  -1.370  \n2010-12-08   0.110  \n2017-03-31   0.430  \n2016-09-01   8.240  \n2015-03-13   0.270  \n2015-10-09   0.240  \n2013-04-23  -0.010  \n2015-08-20   9.880  \n2012-05-31   0.570  \n2012-07-16  -1.640  \n2012-11-21   0.140  \n2011-07-18   0.110  \n2015-03-24  -0.140  \n2010-08-27   0.050  \n2013-07-26  -1.250  \n2013-09-18   0.852  \n2015-07-14  -3.550  \n2017-09-22  15.400  \n2013-07-30   3.060  \n2015-08-26   3.090  \n"
     ]
    }
   ],
   "source": [
    "print(tsla.sample(20))"
   ]
  },
  {
   "cell_type": "code",
   "execution_count": 11,
   "metadata": {},
   "outputs": [
    {
     "output_type": "error",
     "ename": "IndentationError",
     "evalue": "expected an indented block (<ipython-input-11-72c09aa35aaf>, line 7)",
     "traceback": [
      "\u001b[0;36m  File \u001b[0;32m\"<ipython-input-11-72c09aa35aaf>\"\u001b[0;36m, line \u001b[0;32m7\u001b[0m\n\u001b[0;31m    names()\u001b[0m\n\u001b[0m           ^\u001b[0m\n\u001b[0;31mIndentationError\u001b[0m\u001b[0;31m:\u001b[0m expected an indented block\n"
     ]
    }
   ],
   "source": []
  },
  {
   "cell_type": "code",
   "execution_count": null,
   "metadata": {},
   "outputs": [],
   "source": []
  }
 ]
}